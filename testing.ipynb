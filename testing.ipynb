{
 "cells": [
  {
   "cell_type": "code",
   "execution_count": 1,
   "metadata": {},
   "outputs": [],
   "source": [
    "from suggestions import *\n",
    "from server import *"
   ]
  },
  {
   "cell_type": "code",
   "execution_count": 2,
   "metadata": {},
   "outputs": [
    {
     "name": "stdout",
     "output_type": "stream",
     "text": [
      "{'amount': 2, 'exp_date': '21-12-2018', 'image': 'http://fotopotato.com/wp-content/uploads/2016/04/Baby-Carrot-825x510.jpg', 'description': 'long durability'}\n",
      "{'amount': 1, 'exp_date': '26-11-2018', 'image': '', 'description': 'will throw out on monday'}\n",
      "{'amount': 1, 'exp_date': '21-12-2018', 'image': '', 'description': 'great product, hurry up'}\n",
      "{'amount': 1, 'exp_date': '26-11-2018', 'image': '', 'description': 'dont want it anymore'}\n"
     ]
    },
    {
     "data": {
      "text/plain": [
       "[{'type': 'borrow',\n",
       "  'location': 'finnland street 12',\n",
       "  'availability': '10 to 14',\n",
       "  'description': 'long durability',\n",
       "  'image': 'http://fotopotato.com/wp-content/uploads/2016/04/Baby-Carrot-825x510.jpg'}]"
      ]
     },
     "execution_count": 2,
     "metadata": {},
     "output_type": "execute_result"
    }
   ],
   "source": [
    "suggestions.get_borrow_suggestions(\"4001724819608\",1)"
   ]
  },
  {
   "cell_type": "code",
   "execution_count": 3,
   "metadata": {},
   "outputs": [
    {
     "data": {
      "text/plain": [
       "{'type': 'coop', 'friends': ['freya']}"
      ]
     },
     "execution_count": 3,
     "metadata": {},
     "output_type": "execute_result"
    }
   ],
   "source": [
    "suggestions.get_coop_suggestions(\"ivan\", \"12312312\",1)"
   ]
  },
  {
   "cell_type": "code",
   "execution_count": 4,
   "metadata": {},
   "outputs": [
    {
     "data": {
      "text/plain": [
       "[]"
      ]
     },
     "execution_count": 4,
     "metadata": {},
     "output_type": "execute_result"
    }
   ],
   "source": [
    "suggestions.get_replace_suggestions(\"131242144\")"
   ]
  },
  {
   "cell_type": "code",
   "execution_count": null,
   "metadata": {},
   "outputs": [],
   "source": []
  }
 ],
 "metadata": {
  "kernelspec": {
   "display_name": "Python 3",
   "language": "python",
   "name": "python3"
  },
  "language_info": {
   "codemirror_mode": {
    "name": "ipython",
    "version": 3
   },
   "file_extension": ".py",
   "mimetype": "text/x-python",
   "name": "python",
   "nbconvert_exporter": "python",
   "pygments_lexer": "ipython3",
   "version": "3.6.6"
  }
 },
 "nbformat": 4,
 "nbformat_minor": 2
}
